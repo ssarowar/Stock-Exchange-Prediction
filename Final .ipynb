{
 "cells": [
  {
   "cell_type": "code",
   "execution_count": 30,
   "id": "17bfde18",
   "metadata": {},
   "outputs": [],
   "source": [
    "import numpy as np\n",
    "import pandas as pd\n",
    "import math\n",
    "import os\n",
    "from scipy import stats\n",
    "import matplotlib.pyplot as plt\n",
    "import csv\n",
    "from sklearn.model_selection import train_test_split"
   ]
  },
  {
   "cell_type": "code",
   "execution_count": 31,
   "id": "85de2269",
   "metadata": {},
   "outputs": [
    {
     "name": "stderr",
     "output_type": "stream",
     "text": [
      "C:\\Users\\ssarowar\\Anaconda3\\lib\\site-packages\\IPython\\core\\interactiveshell.py:3369: FutureWarning: In a future version of pandas all arguments of read_csv except for the argument 'filepath_or_buffer' will be keyword-only.\n",
      "  exec(code_obj, self.user_global_ns, self.user_ns)\n"
     ]
    }
   ],
   "source": [
    "stock_list = pd.read_csv('stock_list.csv', 'r' )"
   ]
  },
  {
   "cell_type": "code",
   "execution_count": 32,
   "id": "6208c177",
   "metadata": {},
   "outputs": [
    {
     "data": {
      "text/html": [
       "<div>\n",
       "<style scoped>\n",
       "    .dataframe tbody tr th:only-of-type {\n",
       "        vertical-align: middle;\n",
       "    }\n",
       "\n",
       "    .dataframe tbody tr th {\n",
       "        vertical-align: top;\n",
       "    }\n",
       "\n",
       "    .dataframe thead th {\n",
       "        text-align: right;\n",
       "    }\n",
       "</style>\n",
       "<table border=\"1\" class=\"dataframe\">\n",
       "  <thead>\n",
       "    <tr style=\"text-align: right;\">\n",
       "      <th></th>\n",
       "      <th>Secu</th>\n",
       "      <th>itiesCode,EffectiveDate,Name,Section/P</th>\n",
       "      <th>oducts,NewMa</th>\n",
       "      <th>ketSegment,33Secto</th>\n",
       "      <th>Code,33Secto</th>\n",
       "      <th>Name,17Secto</th>\n",
       "      <th>Code,17Secto</th>\n",
       "      <th>Name,NewIndexSe</th>\n",
       "      <th>iesSizeCode,NewIndexSe</th>\n",
       "      <th>iesSize,T</th>\n",
       "      <th>adeDate,Close,IssuedSha</th>\n",
       "      <th>es,Ma</th>\n",
       "      <th>ketCapitalization,Unive</th>\n",
       "      <th>se0</th>\n",
       "    </tr>\n",
       "  </thead>\n",
       "  <tbody>\n",
       "    <tr>\n",
       "      <th>0</th>\n",
       "      <td>1301,20211230,\"KYOKUYO CO.,LTD.\",Fi</td>\n",
       "      <td>st Section (Domestic),P</td>\n",
       "      <td>ime Ma</td>\n",
       "      <td>ket,50,\"Fishe</td>\n",
       "      <td>y, Ag</td>\n",
       "      <td>icultu</td>\n",
       "      <td>e and Fo</td>\n",
       "      <td>est</td>\n",
       "      <td>y\",1,FOODS ,7,TOPIX Small 2,20211230,3080,1092...</td>\n",
       "      <td>NaN</td>\n",
       "      <td>NaN</td>\n",
       "      <td>NaN</td>\n",
       "      <td>NaN</td>\n",
       "      <td>NaN</td>\n",
       "    </tr>\n",
       "    <tr>\n",
       "      <th>1</th>\n",
       "      <td>1305,20211230,Daiwa ETF-TOPIX,ETFs/ ETNs,,-,-,...</td>\n",
       "      <td>NaN</td>\n",
       "      <td>NaN</td>\n",
       "      <td>NaN</td>\n",
       "      <td>NaN</td>\n",
       "      <td>NaN</td>\n",
       "      <td>NaN</td>\n",
       "      <td>NaN</td>\n",
       "      <td>NaN</td>\n",
       "      <td>NaN</td>\n",
       "      <td>NaN</td>\n",
       "      <td>NaN</td>\n",
       "      <td>NaN</td>\n",
       "      <td>NaN</td>\n",
       "    </tr>\n",
       "    <tr>\n",
       "      <th>2</th>\n",
       "      <td>1306,20211230,NEXT FUNDS TOPIX Exchange T</td>\n",
       "      <td>aded Fund,ETFs/ ETNs,,-,-,-,-,-,-,20211230,207...</td>\n",
       "      <td>NaN</td>\n",
       "      <td>NaN</td>\n",
       "      <td>NaN</td>\n",
       "      <td>NaN</td>\n",
       "      <td>NaN</td>\n",
       "      <td>NaN</td>\n",
       "      <td>NaN</td>\n",
       "      <td>NaN</td>\n",
       "      <td>NaN</td>\n",
       "      <td>NaN</td>\n",
       "      <td>NaN</td>\n",
       "      <td>NaN</td>\n",
       "    </tr>\n",
       "    <tr>\n",
       "      <th>3</th>\n",
       "      <td>1308,20211230,Nikko Exchange T</td>\n",
       "      <td>aded Index Fund TOPIX,ETFs/ ETNs,,-,-,-,-,-,-,...</td>\n",
       "      <td>NaN</td>\n",
       "      <td>NaN</td>\n",
       "      <td>NaN</td>\n",
       "      <td>NaN</td>\n",
       "      <td>NaN</td>\n",
       "      <td>NaN</td>\n",
       "      <td>NaN</td>\n",
       "      <td>NaN</td>\n",
       "      <td>NaN</td>\n",
       "      <td>NaN</td>\n",
       "      <td>NaN</td>\n",
       "      <td>NaN</td>\n",
       "    </tr>\n",
       "    <tr>\n",
       "      <th>4</th>\n",
       "      <td>1309,20211230,NEXT FUNDS ChinaAMC SSE50 Index ...</td>\n",
       "      <td>aded Fund,ETFs/ ETNs,,-,-,-,-,-,-,20211230,442...</td>\n",
       "      <td>NaN</td>\n",
       "      <td>NaN</td>\n",
       "      <td>NaN</td>\n",
       "      <td>NaN</td>\n",
       "      <td>NaN</td>\n",
       "      <td>NaN</td>\n",
       "      <td>NaN</td>\n",
       "      <td>NaN</td>\n",
       "      <td>NaN</td>\n",
       "      <td>NaN</td>\n",
       "      <td>NaN</td>\n",
       "      <td>NaN</td>\n",
       "    </tr>\n",
       "  </tbody>\n",
       "</table>\n",
       "</div>"
      ],
      "text/plain": [
       "                                                Secu  \\\n",
       "0                1301,20211230,\"KYOKUYO CO.,LTD.\",Fi   \n",
       "1  1305,20211230,Daiwa ETF-TOPIX,ETFs/ ETNs,,-,-,...   \n",
       "2          1306,20211230,NEXT FUNDS TOPIX Exchange T   \n",
       "3                     1308,20211230,Nikko Exchange T   \n",
       "4  1309,20211230,NEXT FUNDS ChinaAMC SSE50 Index ...   \n",
       "\n",
       "              itiesCode,EffectiveDate,Name,Section/P oducts,NewMa  \\\n",
       "0                            st Section (Domestic),P       ime Ma   \n",
       "1                                                NaN          NaN   \n",
       "2  aded Fund,ETFs/ ETNs,,-,-,-,-,-,-,20211230,207...          NaN   \n",
       "3  aded Index Fund TOPIX,ETFs/ ETNs,,-,-,-,-,-,-,...          NaN   \n",
       "4  aded Fund,ETFs/ ETNs,,-,-,-,-,-,-,20211230,442...          NaN   \n",
       "\n",
       "  ketSegment,33Secto Code,33Secto Name,17Secto Code,17Secto Name,NewIndexSe  \\\n",
       "0      ket,50,\"Fishe        y, Ag       icultu     e and Fo             est   \n",
       "1                NaN          NaN          NaN          NaN             NaN   \n",
       "2                NaN          NaN          NaN          NaN             NaN   \n",
       "3                NaN          NaN          NaN          NaN             NaN   \n",
       "4                NaN          NaN          NaN          NaN             NaN   \n",
       "\n",
       "                              iesSizeCode,NewIndexSe iesSize,T  \\\n",
       "0  y\",1,FOODS ,7,TOPIX Small 2,20211230,3080,1092...       NaN   \n",
       "1                                                NaN       NaN   \n",
       "2                                                NaN       NaN   \n",
       "3                                                NaN       NaN   \n",
       "4                                                NaN       NaN   \n",
       "\n",
       "  adeDate,Close,IssuedSha es,Ma ketCapitalization,Unive  se0  \n",
       "0                     NaN   NaN                     NaN  NaN  \n",
       "1                     NaN   NaN                     NaN  NaN  \n",
       "2                     NaN   NaN                     NaN  NaN  \n",
       "3                     NaN   NaN                     NaN  NaN  \n",
       "4                     NaN   NaN                     NaN  NaN  "
      ]
     },
     "execution_count": 32,
     "metadata": {},
     "output_type": "execute_result"
    }
   ],
   "source": [
    "stock_list.head()"
   ]
  },
  {
   "cell_type": "code",
   "execution_count": 33,
   "id": "40b25f77",
   "metadata": {},
   "outputs": [
    {
     "name": "stdout",
     "output_type": "stream",
     "text": [
      "number of records:  4417\n"
     ]
    }
   ],
   "source": [
    "print(\"number of records: \", len(stock_list))"
   ]
  },
  {
   "cell_type": "code",
   "execution_count": 34,
   "id": "28f04f99",
   "metadata": {},
   "outputs": [],
   "source": [
    "#stock_list.to_csv(\"train_stock_list.csv\")"
   ]
  },
  {
   "cell_type": "code",
   "execution_count": 35,
   "id": "c5bc1cd2",
   "metadata": {},
   "outputs": [
    {
     "name": "stdout",
     "output_type": "stream",
     "text": [
      "No. of training examples: 3533\n",
      "No. of testing examples: 884\n"
     ]
    }
   ],
   "source": [
    "training_data, testing_data = train_test_split(stock_list, test_size=0.2, random_state=25)\n",
    "\n",
    "print(f\"No. of training examples: {training_data.shape[0]}\")\n",
    "print(f\"No. of testing examples: {testing_data.shape[0]}\")\n",
    "\n"
   ]
  },
  {
   "cell_type": "code",
   "execution_count": 36,
   "id": "bdc36de2",
   "metadata": {},
   "outputs": [],
   "source": [
    "#training_data.to_csv(\"train_stock_list.csv\")"
   ]
  },
  {
   "cell_type": "code",
   "execution_count": 43,
   "id": "c17545f5",
   "metadata": {},
   "outputs": [
    {
     "name": "stderr",
     "output_type": "stream",
     "text": [
      "C:\\Users\\ssarowar\\Anaconda3\\lib\\site-packages\\IPython\\core\\interactiveshell.py:3369: FutureWarning: In a future version of pandas all arguments of read_csv except for the argument 'filepath_or_buffer' will be keyword-only.\n",
      "  exec(code_obj, self.user_global_ns, self.user_ns)\n",
      "C:\\Users\\ssarowar\\AppData\\Local\\Temp\\ipykernel_7736\\1879661786.py:1: DtypeWarning: Columns (6,7) have mixed types. Specify dtype option on import or set low_memory=False.\n",
      "  financials = pd.read_csv('supplemental_files/financials.csv', 'r' )\n"
     ]
    },
    {
     "name": "stdout",
     "output_type": "stream",
     "text": [
      "number of records:  9794\n",
      "No. of training examples: 7835\n",
      "No. of testing examples: 1959\n"
     ]
    }
   ],
   "source": [
    "financials = pd.read_csv('supplemental_files/financials.csv', 'r' )\n",
    "financials.head()\n",
    "print(\"number of records: \", len(financials))\n",
    "\n",
    "training_financials, testing_financials = train_test_split(financials, test_size=0.2, random_state=25)\n",
    "\n",
    "print(f\"No. of training examples: {training_financials.shape[0]}\")\n",
    "print(f\"No. of testing examples: {testing_financials.shape[0]}\")\n",
    "#training_financials.to_csv(\"exports/train_financials.csv\")\n",
    "#testing_financials.to_csv(\"exports/testing_financials.csv\")"
   ]
  },
  {
   "cell_type": "code",
   "execution_count": 44,
   "id": "0c334753",
   "metadata": {},
   "outputs": [
    {
     "name": "stderr",
     "output_type": "stream",
     "text": [
      "C:\\Users\\ssarowar\\Anaconda3\\lib\\site-packages\\IPython\\core\\interactiveshell.py:3369: FutureWarning: In a future version of pandas all arguments of read_csv except for the argument 'filepath_or_buffer' will be keyword-only.\n",
      "  exec(code_obj, self.user_global_ns, self.user_ns)\n"
     ]
    },
    {
     "name": "stdout",
     "output_type": "stream",
     "text": [
      "number of records:  584502\n",
      "No. of training examples: 467601\n",
      "No. of testing examples: 116901\n"
     ]
    }
   ],
   "source": [
    "options = pd.read_csv('supplemental_files/options.csv', 'r' )\n",
    "options.head()\n",
    "print(\"number of records: \", len(options))\n",
    "\n",
    "training_options, testing_options = train_test_split(options, test_size=0.2, random_state=25)\n",
    "\n",
    "print(f\"No. of training examples: {training_options.shape[0]}\")\n",
    "print(f\"No. of testing examples: {testing_options.shape[0]}\")\n",
    "#training_options.to_csv(\"exports/train_options.csv\")\n",
    "#testing_options.to_csv(\"exports/testing_options.csv\")"
   ]
  },
  {
   "cell_type": "code",
   "execution_count": 45,
   "id": "71fc4cdd",
   "metadata": {},
   "outputs": [
    {
     "name": "stdout",
     "output_type": "stream",
     "text": [
      "number of records:  193\n",
      "No. of training examples: 154\n",
      "No. of testing examples: 39\n"
     ]
    },
    {
     "name": "stderr",
     "output_type": "stream",
     "text": [
      "C:\\Users\\ssarowar\\Anaconda3\\lib\\site-packages\\IPython\\core\\interactiveshell.py:3369: FutureWarning: In a future version of pandas all arguments of read_csv except for the argument 'filepath_or_buffer' will be keyword-only.\n",
      "  exec(code_obj, self.user_global_ns, self.user_ns)\n"
     ]
    }
   ],
   "source": [
    "trades = pd.read_csv('supplemental_files/trades.csv', 'r' )\n",
    "trades.head()\n",
    "print(\"number of records: \", len(trades))\n",
    "\n",
    "training_trades, testing_trades = train_test_split(trades, test_size=0.2, random_state=25)\n",
    "\n",
    "print(f\"No. of training examples: {training_trades.shape[0]}\")\n",
    "print(f\"No. of testing examples: {testing_trades.shape[0]}\")\n",
    "#training_trades.to_csv(\"exports/train_trades.csv\")\n",
    "#testing_trades.to_csv(\"exports/testing_trades.csv\")"
   ]
  },
  {
   "cell_type": "code",
   "execution_count": 46,
   "id": "4497d1b4",
   "metadata": {},
   "outputs": [
    {
     "name": "stderr",
     "output_type": "stream",
     "text": [
      "C:\\Users\\ssarowar\\Anaconda3\\lib\\site-packages\\IPython\\core\\interactiveshell.py:3369: FutureWarning: In a future version of pandas all arguments of read_csv except for the argument 'filepath_or_buffer' will be keyword-only.\n",
      "  exec(code_obj, self.user_global_ns, self.user_ns)\n"
     ]
    },
    {
     "name": "stdout",
     "output_type": "stream",
     "text": [
      "number of records:  284583\n",
      "No. of training examples: 227666\n",
      "No. of testing examples: 56917\n"
     ]
    }
   ],
   "source": [
    "secondary_stock_prices = pd.read_csv('supplemental_files/secondary_stock_prices.csv', 'r' )\n",
    "secondary_stock_prices.head()\n",
    "print(\"number of records: \", len(secondary_stock_prices))\n",
    "\n",
    "training_secondary_stock_prices, testing_secondary_stock_prices = train_test_split(secondary_stock_prices, test_size=0.2, random_state=25)\n",
    "\n",
    "print(f\"No. of training examples: {training_secondary_stock_prices.shape[0]}\")\n",
    "print(f\"No. of testing examples: {testing_secondary_stock_prices.shape[0]}\")\n",
    "#training_secondary_stock_prices.to_csv(\"exports/train_secondary_stock_prices.csv\")\n",
    "#testing_secondary_stock_prices.to_csv(\"exports/testing_secondary_stock_prices.csv\")"
   ]
  },
  {
   "cell_type": "code",
   "execution_count": 47,
   "id": "c28c752b",
   "metadata": {},
   "outputs": [
    {
     "name": "stderr",
     "output_type": "stream",
     "text": [
      "C:\\Users\\ssarowar\\Anaconda3\\lib\\site-packages\\IPython\\core\\interactiveshell.py:3369: FutureWarning: In a future version of pandas all arguments of read_csv except for the argument 'filepath_or_buffer' will be keyword-only.\n",
      "  exec(code_obj, self.user_global_ns, self.user_ns)\n"
     ]
    },
    {
     "name": "stdout",
     "output_type": "stream",
     "text": [
      "number of records:  269881\n",
      "No. of training examples: 215904\n",
      "No. of testing examples: 53977\n"
     ]
    }
   ],
   "source": [
    "stock_prices = pd.read_csv('supplemental_files/stock_prices.csv', 'r' )\n",
    "stock_prices.head()\n",
    "print(\"number of records: \", len(stock_prices))\n",
    "\n",
    "training_stock_prices, testing_stock_prices = train_test_split(stock_prices, test_size=0.2, random_state=25)\n",
    "\n",
    "print(f\"No. of training examples: {training_stock_prices.shape[0]}\")\n",
    "print(f\"No. of testing examples: {testing_stock_prices.shape[0]}\")\n",
    "#training_stock_prices.to_csv(\"exports/train_stock_prices.csv\")\n",
    "#testing_stock_prices.to_csv(\"exports/testing_stock_prices.csv\")"
   ]
  },
  {
   "cell_type": "code",
   "execution_count": 8,
   "id": "487c9f7c",
   "metadata": {},
   "outputs": [],
   "source": [
    "#from sklearn.preprocessing import StandardScaler\n",
    "#import pandas as pd\n",
    "\n",
    "#train_stock_prices = pd.read_csv('exports/train_stock_prices.csv', 'r' )\n",
    "#testing_stock_prices = pd.read_csv('exports/testing_stock_prices.csv', 'r' )\n",
    "\n",
    "\n",
    "#scaler = StandardScaler()\n",
    "#train_stock_prices_scaled = scaler.fit_transform(train_stock_prices)\n",
    "#testing_stock_prices_scaled = scaler.transform(testing_stock_prices)"
   ]
  },
  {
   "cell_type": "code",
   "execution_count": null,
   "id": "ed757e95",
   "metadata": {},
   "outputs": [],
   "source": [
    "#to reshape the data \n",
    "#train_stock_prices = np.reshape(X_train, (X_train.shape[0], lookback, X_train.shape[1]))\n",
    "#testing_stock_prices = np.reshape(X_test, (X_test.shape[0], lookback, X_test.shape[1]))"
   ]
  },
  {
   "cell_type": "code",
   "execution_count": 3,
   "id": "2270c2c2",
   "metadata": {},
   "outputs": [
    {
     "ename": "ModuleNotFoundError",
     "evalue": "No module named 'tensorflow'",
     "output_type": "error",
     "traceback": [
      "\u001b[1;31m---------------------------------------------------------------------------\u001b[0m",
      "\u001b[1;31mModuleNotFoundError\u001b[0m                       Traceback (most recent call last)",
      "Input \u001b[1;32mIn [3]\u001b[0m, in \u001b[0;36m<cell line: 5>\u001b[1;34m()\u001b[0m\n\u001b[0;32m      3\u001b[0m \u001b[38;5;28;01mfrom\u001b[39;00m \u001b[38;5;21;01msklearn\u001b[39;00m\u001b[38;5;21;01m.\u001b[39;00m\u001b[38;5;21;01mpreprocessing\u001b[39;00m \u001b[38;5;28;01mimport\u001b[39;00m StandardScaler\n\u001b[0;32m      4\u001b[0m \u001b[38;5;66;03m#from keras.models import Sequential\u001b[39;00m\n\u001b[1;32m----> 5\u001b[0m \u001b[38;5;28;01mfrom\u001b[39;00m \u001b[38;5;21;01mkeras\u001b[39;00m\u001b[38;5;21;01m.\u001b[39;00m\u001b[38;5;21;01mlayers\u001b[39;00m \u001b[38;5;28;01mimport\u001b[39;00m LSTM, Dense\n\u001b[0;32m      7\u001b[0m \u001b[38;5;66;03m# Load the dataset\u001b[39;00m\n\u001b[0;32m      8\u001b[0m data \u001b[38;5;241m=\u001b[39m pd\u001b[38;5;241m.\u001b[39mread_csv(\u001b[38;5;124m'\u001b[39m\u001b[38;5;124mexports/training_stock_prices.csv\u001b[39m\u001b[38;5;124m'\u001b[39m)\n",
      "File \u001b[1;32m~\\Anaconda3\\lib\\site-packages\\keras\\__init__.py:20\u001b[0m, in \u001b[0;36m<module>\u001b[1;34m\u001b[0m\n\u001b[0;32m      1\u001b[0m \u001b[38;5;66;03m# Copyright 2015 The TensorFlow Authors. All Rights Reserved.\u001b[39;00m\n\u001b[0;32m      2\u001b[0m \u001b[38;5;66;03m#\u001b[39;00m\n\u001b[0;32m      3\u001b[0m \u001b[38;5;66;03m# Licensed under the Apache License, Version 2.0 (the \"License\");\u001b[39;00m\n\u001b[1;32m   (...)\u001b[0m\n\u001b[0;32m     13\u001b[0m \u001b[38;5;66;03m# limitations under the License.\u001b[39;00m\n\u001b[0;32m     14\u001b[0m \u001b[38;5;66;03m# ==============================================================================\u001b[39;00m\n\u001b[0;32m     15\u001b[0m \u001b[38;5;124;03m\"\"\"Implementation of the Keras API, the high-level API of TensorFlow.\u001b[39;00m\n\u001b[0;32m     16\u001b[0m \n\u001b[0;32m     17\u001b[0m \u001b[38;5;124;03mDetailed documentation and user guides are available at\u001b[39;00m\n\u001b[0;32m     18\u001b[0m \u001b[38;5;124;03m[keras.io](https://keras.io).\u001b[39;00m\n\u001b[0;32m     19\u001b[0m \u001b[38;5;124;03m\"\"\"\u001b[39;00m\n\u001b[1;32m---> 20\u001b[0m \u001b[38;5;28;01mfrom\u001b[39;00m \u001b[38;5;21;01mkeras\u001b[39;00m \u001b[38;5;28;01mimport\u001b[39;00m distribute\n\u001b[0;32m     21\u001b[0m \u001b[38;5;28;01mfrom\u001b[39;00m \u001b[38;5;21;01mkeras\u001b[39;00m \u001b[38;5;28;01mimport\u001b[39;00m models\n\u001b[0;32m     22\u001b[0m \u001b[38;5;28;01mfrom\u001b[39;00m \u001b[38;5;21;01mkeras\u001b[39;00m\u001b[38;5;21;01m.\u001b[39;00m\u001b[38;5;21;01mengine\u001b[39;00m\u001b[38;5;21;01m.\u001b[39;00m\u001b[38;5;21;01minput_layer\u001b[39;00m \u001b[38;5;28;01mimport\u001b[39;00m Input\n",
      "File \u001b[1;32m~\\Anaconda3\\lib\\site-packages\\keras\\distribute\\__init__.py:18\u001b[0m, in \u001b[0;36m<module>\u001b[1;34m\u001b[0m\n\u001b[0;32m      1\u001b[0m \u001b[38;5;66;03m# Copyright 2019 The TensorFlow Authors. All Rights Reserved.\u001b[39;00m\n\u001b[0;32m      2\u001b[0m \u001b[38;5;66;03m#\u001b[39;00m\n\u001b[0;32m      3\u001b[0m \u001b[38;5;66;03m# Licensed under the Apache License, Version 2.0 (the \"License\");\u001b[39;00m\n\u001b[1;32m   (...)\u001b[0m\n\u001b[0;32m     13\u001b[0m \u001b[38;5;66;03m# limitations under the License.\u001b[39;00m\n\u001b[0;32m     14\u001b[0m \u001b[38;5;66;03m# ==============================================================================\u001b[39;00m\n\u001b[0;32m     15\u001b[0m \u001b[38;5;124;03m\"\"\"Keras' Distribution Strategy library.\"\"\"\u001b[39;00m\n\u001b[1;32m---> 18\u001b[0m \u001b[38;5;28;01mfrom\u001b[39;00m \u001b[38;5;21;01mkeras\u001b[39;00m\u001b[38;5;21;01m.\u001b[39;00m\u001b[38;5;21;01mdistribute\u001b[39;00m \u001b[38;5;28;01mimport\u001b[39;00m sidecar_evaluator\n",
      "File \u001b[1;32m~\\Anaconda3\\lib\\site-packages\\keras\\distribute\\sidecar_evaluator.py:17\u001b[0m, in \u001b[0;36m<module>\u001b[1;34m\u001b[0m\n\u001b[0;32m      1\u001b[0m \u001b[38;5;66;03m# Copyright 2020 The TensorFlow Authors. All Rights Reserved.\u001b[39;00m\n\u001b[0;32m      2\u001b[0m \u001b[38;5;66;03m#\u001b[39;00m\n\u001b[0;32m      3\u001b[0m \u001b[38;5;66;03m# Licensed under the Apache License, Version 2.0 (the \"License\");\u001b[39;00m\n\u001b[1;32m   (...)\u001b[0m\n\u001b[0;32m     13\u001b[0m \u001b[38;5;66;03m# limitations under the License.\u001b[39;00m\n\u001b[0;32m     14\u001b[0m \u001b[38;5;66;03m# ==============================================================================\u001b[39;00m\n\u001b[0;32m     15\u001b[0m \u001b[38;5;124;03m\"\"\"Python module for evaluation loop.\"\"\"\u001b[39;00m\n\u001b[1;32m---> 17\u001b[0m \u001b[38;5;28;01mimport\u001b[39;00m \u001b[38;5;21;01mtensorflow\u001b[39;00m\u001b[38;5;21;01m.\u001b[39;00m\u001b[38;5;21;01mcompat\u001b[39;00m\u001b[38;5;21;01m.\u001b[39;00m\u001b[38;5;21;01mv2\u001b[39;00m \u001b[38;5;28;01mas\u001b[39;00m \u001b[38;5;21;01mtf\u001b[39;00m\n\u001b[0;32m     19\u001b[0m \u001b[38;5;66;03m# isort: off\u001b[39;00m\n\u001b[0;32m     20\u001b[0m \u001b[38;5;28;01mfrom\u001b[39;00m \u001b[38;5;21;01mtensorflow\u001b[39;00m\u001b[38;5;21;01m.\u001b[39;00m\u001b[38;5;21;01mpython\u001b[39;00m\u001b[38;5;21;01m.\u001b[39;00m\u001b[38;5;21;01mplatform\u001b[39;00m \u001b[38;5;28;01mimport\u001b[39;00m tf_logging \u001b[38;5;28;01mas\u001b[39;00m logging\n",
      "\u001b[1;31mModuleNotFoundError\u001b[0m: No module named 'tensorflow'"
     ]
    }
   ],
   "source": [
    "import numpy as np\n",
    "import pandas as pd\n",
    "from sklearn.preprocessing import StandardScaler\n",
    "#from keras.models import Sequential\n",
    "from keras.layers import LSTM, Dense\n",
    "\n",
    "# Load the dataset\n",
    "data = pd.read_csv('exports/training_stock_prices.csv')\n",
    "\n",
    "# lookback parameter\n",
    "lookback = 30\n",
    "\n",
    "# Extracting the input and output data\n",
    "input_data = data.iloc[:-lookback, :-1].values\n",
    "output_data = data.iloc[lookback:, -1:].values\n",
    "\n",
    "# Normalizing the input data\n",
    "scaler = StandardScaler()\n",
    "input_data = scaler.fit_transform(input_data)\n",
    "\n",
    "# Reshaping the input data\n",
    "input_data = input_data.reshape(input_data.shape[0], lookback, input_data.shape[1])\n",
    "\n",
    "# Splitting the data into training and testing sets\n",
    "train_size = int(len(input_data) * 0.8)\n",
    "train_input = input_data[:train_size]\n",
    "train_output = output_data[:train_size]\n",
    "test_input = input_data[train_size:]\n",
    "test_output = output_data[train_size:]\n",
    "\n",
    "# model architecture\n",
    "model = Sequential()\n",
    "model.add(LSTM(50, input_shape=(train_input.shape[1], train_input.shape[2])))\n",
    "model.add(Dense(1))\n",
    "model.compile(loss='mean_squared_error', optimizer='adam')\n",
    "\n",
    "# Train the model\n",
    "model.fit(train_input, train_output, epochs=50, batch_size=64, validation_data=(test_input, test_output), verbose=2)\n"
   ]
  },
  {
   "cell_type": "code",
   "execution_count": 1,
   "id": "51bdc10a",
   "metadata": {},
   "outputs": [
    {
     "ename": "NameError",
     "evalue": "name 'model' is not defined",
     "output_type": "error",
     "traceback": [
      "\u001b[1;31m---------------------------------------------------------------------------\u001b[0m",
      "\u001b[1;31mNameError\u001b[0m                                 Traceback (most recent call last)",
      "Input \u001b[1;32mIn [1]\u001b[0m, in \u001b[0;36m<cell line: 1>\u001b[1;34m()\u001b[0m\n\u001b[1;32m----> 1\u001b[0m score \u001b[38;5;241m=\u001b[39m \u001b[43mmodel\u001b[49m\u001b[38;5;241m.\u001b[39mevaluate(X_test, y_test, verbose\u001b[38;5;241m=\u001b[39m\u001b[38;5;241m0\u001b[39m)\n\u001b[0;32m      3\u001b[0m \u001b[38;5;66;03m# Print the evaluation metrics\u001b[39;00m\n\u001b[0;32m      4\u001b[0m \u001b[38;5;28mprint\u001b[39m(\u001b[38;5;124m'\u001b[39m\u001b[38;5;124mMSE: \u001b[39m\u001b[38;5;132;01m%.4f\u001b[39;00m\u001b[38;5;124m'\u001b[39m \u001b[38;5;241m%\u001b[39m score[\u001b[38;5;241m0\u001b[39m])\n",
      "\u001b[1;31mNameError\u001b[0m: name 'model' is not defined"
     ]
    }
   ],
   "source": [
    "score = model.evaluate(X_test, y_test, verbose=0)\n",
    "\n",
    "# Print the evaluation metrics\n",
    "print('MSE: %.4f' % score[0])\n",
    "\n",
    "# Plot the predictions against the actual values\n",
    "plt.plot(y_test, label='Actual')\n",
    "plt.plot(y_pred, label='Predicted')\n",
    "plt.legend()\n",
    "plt.show()"
   ]
  },
  {
   "cell_type": "code",
   "execution_count": null,
   "id": "c2b49da4",
   "metadata": {},
   "outputs": [],
   "source": []
  }
 ],
 "metadata": {
  "kernelspec": {
   "display_name": "Python 3",
   "language": "python",
   "name": "python3"
  },
  "language_info": {
   "codemirror_mode": {
    "name": "ipython",
    "version": 3
   },
   "file_extension": ".py",
   "mimetype": "text/x-python",
   "name": "python",
   "nbconvert_exporter": "python",
   "pygments_lexer": "ipython3",
   "version": "3.9.12"
  }
 },
 "nbformat": 4,
 "nbformat_minor": 5
}
