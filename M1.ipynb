{
 "cells": [
  {
   "cell_type": "code",
   "execution_count": 30,
   "id": "17bfde18",
   "metadata": {},
   "outputs": [],
   "source": [
    "import numpy as np\n",
    "import pandas as pd\n",
    "import math\n",
    "import os\n",
    "from scipy import stats\n",
    "import matplotlib.pyplot as plt\n",
    "import csv\n",
    "from sklearn.model_selection import train_test_split"
   ]
  },
  {
   "cell_type": "code",
   "execution_count": 31,
   "id": "85de2269",
   "metadata": {},
   "outputs": [
    {
     "name": "stderr",
     "output_type": "stream",
     "text": [
      "C:\\Users\\ssarowar\\Anaconda3\\lib\\site-packages\\IPython\\core\\interactiveshell.py:3369: FutureWarning: In a future version of pandas all arguments of read_csv except for the argument 'filepath_or_buffer' will be keyword-only.\n",
      "  exec(code_obj, self.user_global_ns, self.user_ns)\n"
     ]
    }
   ],
   "source": [
    "stock_list = pd.read_csv('stock_list.csv', 'r' )"
   ]
  },
  {
   "cell_type": "code",
   "execution_count": 32,
   "id": "6208c177",
   "metadata": {},
   "outputs": [
    {
     "data": {
      "text/html": [
       "<div>\n",
       "<style scoped>\n",
       "    .dataframe tbody tr th:only-of-type {\n",
       "        vertical-align: middle;\n",
       "    }\n",
       "\n",
       "    .dataframe tbody tr th {\n",
       "        vertical-align: top;\n",
       "    }\n",
       "\n",
       "    .dataframe thead th {\n",
       "        text-align: right;\n",
       "    }\n",
       "</style>\n",
       "<table border=\"1\" class=\"dataframe\">\n",
       "  <thead>\n",
       "    <tr style=\"text-align: right;\">\n",
       "      <th></th>\n",
       "      <th>Secu</th>\n",
       "      <th>itiesCode,EffectiveDate,Name,Section/P</th>\n",
       "      <th>oducts,NewMa</th>\n",
       "      <th>ketSegment,33Secto</th>\n",
       "      <th>Code,33Secto</th>\n",
       "      <th>Name,17Secto</th>\n",
       "      <th>Code,17Secto</th>\n",
       "      <th>Name,NewIndexSe</th>\n",
       "      <th>iesSizeCode,NewIndexSe</th>\n",
       "      <th>iesSize,T</th>\n",
       "      <th>adeDate,Close,IssuedSha</th>\n",
       "      <th>es,Ma</th>\n",
       "      <th>ketCapitalization,Unive</th>\n",
       "      <th>se0</th>\n",
       "    </tr>\n",
       "  </thead>\n",
       "  <tbody>\n",
       "    <tr>\n",
       "      <th>0</th>\n",
       "      <td>1301,20211230,\"KYOKUYO CO.,LTD.\",Fi</td>\n",
       "      <td>st Section (Domestic),P</td>\n",
       "      <td>ime Ma</td>\n",
       "      <td>ket,50,\"Fishe</td>\n",
       "      <td>y, Ag</td>\n",
       "      <td>icultu</td>\n",
       "      <td>e and Fo</td>\n",
       "      <td>est</td>\n",
       "      <td>y\",1,FOODS ,7,TOPIX Small 2,20211230,3080,1092...</td>\n",
       "      <td>NaN</td>\n",
       "      <td>NaN</td>\n",
       "      <td>NaN</td>\n",
       "      <td>NaN</td>\n",
       "      <td>NaN</td>\n",
       "    </tr>\n",
       "    <tr>\n",
       "      <th>1</th>\n",
       "      <td>1305,20211230,Daiwa ETF-TOPIX,ETFs/ ETNs,,-,-,...</td>\n",
       "      <td>NaN</td>\n",
       "      <td>NaN</td>\n",
       "      <td>NaN</td>\n",
       "      <td>NaN</td>\n",
       "      <td>NaN</td>\n",
       "      <td>NaN</td>\n",
       "      <td>NaN</td>\n",
       "      <td>NaN</td>\n",
       "      <td>NaN</td>\n",
       "      <td>NaN</td>\n",
       "      <td>NaN</td>\n",
       "      <td>NaN</td>\n",
       "      <td>NaN</td>\n",
       "    </tr>\n",
       "    <tr>\n",
       "      <th>2</th>\n",
       "      <td>1306,20211230,NEXT FUNDS TOPIX Exchange T</td>\n",
       "      <td>aded Fund,ETFs/ ETNs,,-,-,-,-,-,-,20211230,207...</td>\n",
       "      <td>NaN</td>\n",
       "      <td>NaN</td>\n",
       "      <td>NaN</td>\n",
       "      <td>NaN</td>\n",
       "      <td>NaN</td>\n",
       "      <td>NaN</td>\n",
       "      <td>NaN</td>\n",
       "      <td>NaN</td>\n",
       "      <td>NaN</td>\n",
       "      <td>NaN</td>\n",
       "      <td>NaN</td>\n",
       "      <td>NaN</td>\n",
       "    </tr>\n",
       "    <tr>\n",
       "      <th>3</th>\n",
       "      <td>1308,20211230,Nikko Exchange T</td>\n",
       "      <td>aded Index Fund TOPIX,ETFs/ ETNs,,-,-,-,-,-,-,...</td>\n",
       "      <td>NaN</td>\n",
       "      <td>NaN</td>\n",
       "      <td>NaN</td>\n",
       "      <td>NaN</td>\n",
       "      <td>NaN</td>\n",
       "      <td>NaN</td>\n",
       "      <td>NaN</td>\n",
       "      <td>NaN</td>\n",
       "      <td>NaN</td>\n",
       "      <td>NaN</td>\n",
       "      <td>NaN</td>\n",
       "      <td>NaN</td>\n",
       "    </tr>\n",
       "    <tr>\n",
       "      <th>4</th>\n",
       "      <td>1309,20211230,NEXT FUNDS ChinaAMC SSE50 Index ...</td>\n",
       "      <td>aded Fund,ETFs/ ETNs,,-,-,-,-,-,-,20211230,442...</td>\n",
       "      <td>NaN</td>\n",
       "      <td>NaN</td>\n",
       "      <td>NaN</td>\n",
       "      <td>NaN</td>\n",
       "      <td>NaN</td>\n",
       "      <td>NaN</td>\n",
       "      <td>NaN</td>\n",
       "      <td>NaN</td>\n",
       "      <td>NaN</td>\n",
       "      <td>NaN</td>\n",
       "      <td>NaN</td>\n",
       "      <td>NaN</td>\n",
       "    </tr>\n",
       "  </tbody>\n",
       "</table>\n",
       "</div>"
      ],
      "text/plain": [
       "                                                Secu  \\\n",
       "0                1301,20211230,\"KYOKUYO CO.,LTD.\",Fi   \n",
       "1  1305,20211230,Daiwa ETF-TOPIX,ETFs/ ETNs,,-,-,...   \n",
       "2          1306,20211230,NEXT FUNDS TOPIX Exchange T   \n",
       "3                     1308,20211230,Nikko Exchange T   \n",
       "4  1309,20211230,NEXT FUNDS ChinaAMC SSE50 Index ...   \n",
       "\n",
       "              itiesCode,EffectiveDate,Name,Section/P oducts,NewMa  \\\n",
       "0                            st Section (Domestic),P       ime Ma   \n",
       "1                                                NaN          NaN   \n",
       "2  aded Fund,ETFs/ ETNs,,-,-,-,-,-,-,20211230,207...          NaN   \n",
       "3  aded Index Fund TOPIX,ETFs/ ETNs,,-,-,-,-,-,-,...          NaN   \n",
       "4  aded Fund,ETFs/ ETNs,,-,-,-,-,-,-,20211230,442...          NaN   \n",
       "\n",
       "  ketSegment,33Secto Code,33Secto Name,17Secto Code,17Secto Name,NewIndexSe  \\\n",
       "0      ket,50,\"Fishe        y, Ag       icultu     e and Fo             est   \n",
       "1                NaN          NaN          NaN          NaN             NaN   \n",
       "2                NaN          NaN          NaN          NaN             NaN   \n",
       "3                NaN          NaN          NaN          NaN             NaN   \n",
       "4                NaN          NaN          NaN          NaN             NaN   \n",
       "\n",
       "                              iesSizeCode,NewIndexSe iesSize,T  \\\n",
       "0  y\",1,FOODS ,7,TOPIX Small 2,20211230,3080,1092...       NaN   \n",
       "1                                                NaN       NaN   \n",
       "2                                                NaN       NaN   \n",
       "3                                                NaN       NaN   \n",
       "4                                                NaN       NaN   \n",
       "\n",
       "  adeDate,Close,IssuedSha es,Ma ketCapitalization,Unive  se0  \n",
       "0                     NaN   NaN                     NaN  NaN  \n",
       "1                     NaN   NaN                     NaN  NaN  \n",
       "2                     NaN   NaN                     NaN  NaN  \n",
       "3                     NaN   NaN                     NaN  NaN  \n",
       "4                     NaN   NaN                     NaN  NaN  "
      ]
     },
     "execution_count": 32,
     "metadata": {},
     "output_type": "execute_result"
    }
   ],
   "source": [
    "stock_list.head()"
   ]
  },
  {
   "cell_type": "code",
   "execution_count": 33,
   "id": "40b25f77",
   "metadata": {},
   "outputs": [
    {
     "name": "stdout",
     "output_type": "stream",
     "text": [
      "number of records:  4417\n"
     ]
    }
   ],
   "source": [
    "print(\"number of records: \", len(stock_list))"
   ]
  },
  {
   "cell_type": "code",
   "execution_count": 34,
   "id": "28f04f99",
   "metadata": {},
   "outputs": [],
   "source": [
    "#stock_list.to_csv(\"train_stock_list.csv\")"
   ]
  },
  {
   "cell_type": "code",
   "execution_count": 35,
   "id": "c5bc1cd2",
   "metadata": {},
   "outputs": [
    {
     "name": "stdout",
     "output_type": "stream",
     "text": [
      "No. of training examples: 3533\n",
      "No. of testing examples: 884\n"
     ]
    }
   ],
   "source": [
    "training_data, testing_data = train_test_split(stock_list, test_size=0.2, random_state=25)\n",
    "\n",
    "print(f\"No. of training examples: {training_data.shape[0]}\")\n",
    "print(f\"No. of testing examples: {testing_data.shape[0]}\")\n",
    "\n"
   ]
  },
  {
   "cell_type": "code",
   "execution_count": 36,
   "id": "bdc36de2",
   "metadata": {},
   "outputs": [],
   "source": [
    "#training_data.to_csv(\"train_stock_list.csv\")"
   ]
  },
  {
   "cell_type": "code",
   "execution_count": 43,
   "id": "c17545f5",
   "metadata": {},
   "outputs": [
    {
     "name": "stderr",
     "output_type": "stream",
     "text": [
      "C:\\Users\\ssarowar\\Anaconda3\\lib\\site-packages\\IPython\\core\\interactiveshell.py:3369: FutureWarning: In a future version of pandas all arguments of read_csv except for the argument 'filepath_or_buffer' will be keyword-only.\n",
      "  exec(code_obj, self.user_global_ns, self.user_ns)\n",
      "C:\\Users\\ssarowar\\AppData\\Local\\Temp\\ipykernel_7736\\1879661786.py:1: DtypeWarning: Columns (6,7) have mixed types. Specify dtype option on import or set low_memory=False.\n",
      "  financials = pd.read_csv('supplemental_files/financials.csv', 'r' )\n"
     ]
    },
    {
     "name": "stdout",
     "output_type": "stream",
     "text": [
      "number of records:  9794\n",
      "No. of training examples: 7835\n",
      "No. of testing examples: 1959\n"
     ]
    }
   ],
   "source": [
    "financials = pd.read_csv('supplemental_files/financials.csv', 'r' )\n",
    "financials.head()\n",
    "print(\"number of records: \", len(financials))\n",
    "\n",
    "training_financials, testing_financials = train_test_split(financials, test_size=0.2, random_state=25)\n",
    "\n",
    "print(f\"No. of training examples: {training_financials.shape[0]}\")\n",
    "print(f\"No. of testing examples: {testing_financials.shape[0]}\")\n",
    "#training_financials.to_csv(\"exports/train_financials.csv\")\n",
    "#testing_financials.to_csv(\"exports/testing_financials.csv\")"
   ]
  },
  {
   "cell_type": "code",
   "execution_count": 44,
   "id": "0c334753",
   "metadata": {},
   "outputs": [
    {
     "name": "stderr",
     "output_type": "stream",
     "text": [
      "C:\\Users\\ssarowar\\Anaconda3\\lib\\site-packages\\IPython\\core\\interactiveshell.py:3369: FutureWarning: In a future version of pandas all arguments of read_csv except for the argument 'filepath_or_buffer' will be keyword-only.\n",
      "  exec(code_obj, self.user_global_ns, self.user_ns)\n"
     ]
    },
    {
     "name": "stdout",
     "output_type": "stream",
     "text": [
      "number of records:  584502\n",
      "No. of training examples: 467601\n",
      "No. of testing examples: 116901\n"
     ]
    }
   ],
   "source": [
    "options = pd.read_csv('supplemental_files/options.csv', 'r' )\n",
    "options.head()\n",
    "print(\"number of records: \", len(options))\n",
    "\n",
    "training_options, testing_options = train_test_split(options, test_size=0.2, random_state=25)\n",
    "\n",
    "print(f\"No. of training examples: {training_options.shape[0]}\")\n",
    "print(f\"No. of testing examples: {testing_options.shape[0]}\")\n",
    "#training_options.to_csv(\"exports/train_options.csv\")\n",
    "#testing_options.to_csv(\"exports/testing_options.csv\")"
   ]
  },
  {
   "cell_type": "code",
   "execution_count": 45,
   "id": "71fc4cdd",
   "metadata": {},
   "outputs": [
    {
     "name": "stdout",
     "output_type": "stream",
     "text": [
      "number of records:  193\n",
      "No. of training examples: 154\n",
      "No. of testing examples: 39\n"
     ]
    },
    {
     "name": "stderr",
     "output_type": "stream",
     "text": [
      "C:\\Users\\ssarowar\\Anaconda3\\lib\\site-packages\\IPython\\core\\interactiveshell.py:3369: FutureWarning: In a future version of pandas all arguments of read_csv except for the argument 'filepath_or_buffer' will be keyword-only.\n",
      "  exec(code_obj, self.user_global_ns, self.user_ns)\n"
     ]
    }
   ],
   "source": [
    "trades = pd.read_csv('supplemental_files/trades.csv', 'r' )\n",
    "trades.head()\n",
    "print(\"number of records: \", len(trades))\n",
    "\n",
    "training_trades, testing_trades = train_test_split(trades, test_size=0.2, random_state=25)\n",
    "\n",
    "print(f\"No. of training examples: {training_trades.shape[0]}\")\n",
    "print(f\"No. of testing examples: {testing_trades.shape[0]}\")\n",
    "#training_trades.to_csv(\"exports/train_trades.csv\")\n",
    "#testing_trades.to_csv(\"exports/testing_trades.csv\")"
   ]
  },
  {
   "cell_type": "code",
   "execution_count": 46,
   "id": "4497d1b4",
   "metadata": {},
   "outputs": [
    {
     "name": "stderr",
     "output_type": "stream",
     "text": [
      "C:\\Users\\ssarowar\\Anaconda3\\lib\\site-packages\\IPython\\core\\interactiveshell.py:3369: FutureWarning: In a future version of pandas all arguments of read_csv except for the argument 'filepath_or_buffer' will be keyword-only.\n",
      "  exec(code_obj, self.user_global_ns, self.user_ns)\n"
     ]
    },
    {
     "name": "stdout",
     "output_type": "stream",
     "text": [
      "number of records:  284583\n",
      "No. of training examples: 227666\n",
      "No. of testing examples: 56917\n"
     ]
    }
   ],
   "source": [
    "secondary_stock_prices = pd.read_csv('supplemental_files/secondary_stock_prices.csv', 'r' )\n",
    "secondary_stock_prices.head()\n",
    "print(\"number of records: \", len(secondary_stock_prices))\n",
    "\n",
    "training_secondary_stock_prices, testing_secondary_stock_prices = train_test_split(secondary_stock_prices, test_size=0.2, random_state=25)\n",
    "\n",
    "print(f\"No. of training examples: {training_secondary_stock_prices.shape[0]}\")\n",
    "print(f\"No. of testing examples: {testing_secondary_stock_prices.shape[0]}\")\n",
    "#training_secondary_stock_prices.to_csv(\"exports/train_secondary_stock_prices.csv\")\n",
    "#testing_secondary_stock_prices.to_csv(\"exports/testing_secondary_stock_prices.csv\")"
   ]
  },
  {
   "cell_type": "code",
   "execution_count": 47,
   "id": "c28c752b",
   "metadata": {},
   "outputs": [
    {
     "name": "stderr",
     "output_type": "stream",
     "text": [
      "C:\\Users\\ssarowar\\Anaconda3\\lib\\site-packages\\IPython\\core\\interactiveshell.py:3369: FutureWarning: In a future version of pandas all arguments of read_csv except for the argument 'filepath_or_buffer' will be keyword-only.\n",
      "  exec(code_obj, self.user_global_ns, self.user_ns)\n"
     ]
    },
    {
     "name": "stdout",
     "output_type": "stream",
     "text": [
      "number of records:  269881\n",
      "No. of training examples: 215904\n",
      "No. of testing examples: 53977\n"
     ]
    }
   ],
   "source": [
    "stock_prices = pd.read_csv('supplemental_files/stock_prices.csv', 'r' )\n",
    "stock_prices.head()\n",
    "print(\"number of records: \", len(stock_prices))\n",
    "\n",
    "training_stock_prices, testing_stock_prices = train_test_split(stock_prices, test_size=0.2, random_state=25)\n",
    "\n",
    "print(f\"No. of training examples: {training_stock_prices.shape[0]}\")\n",
    "print(f\"No. of testing examples: {testing_stock_prices.shape[0]}\")\n",
    "training_stock_prices.to_csv(\"exports/train_stock_prices.csv\")\n",
    "testing_stock_prices.to_csv(\"exports/testing_stock_prices.csv\")"
   ]
  },
  {
   "cell_type": "code",
   "execution_count": null,
   "id": "487c9f7c",
   "metadata": {},
   "outputs": [],
   "source": []
  }
 ],
 "metadata": {
  "kernelspec": {
   "display_name": "Python 3",
   "language": "python",
   "name": "python3"
  },
  "language_info": {
   "codemirror_mode": {
    "name": "ipython",
    "version": 3
   },
   "file_extension": ".py",
   "mimetype": "text/x-python",
   "name": "python",
   "nbconvert_exporter": "python",
   "pygments_lexer": "ipython3",
   "version": "3.9.12"
  }
 },
 "nbformat": 4,
 "nbformat_minor": 5
}
